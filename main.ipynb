{
 "cells": [
  {
   "cell_type": "code",
   "execution_count": 2,
   "id": "61ec746e",
   "metadata": {},
   "outputs": [],
   "source": [
    "import tensorflow as tf\n",
    "from tensorflow.keras.models import Sequential\n",
    "from tensorflow.keras.layers import Dense, Dropout, Flatten\n",
    "from tensorflow.keras.optimizers import Adam\n",
    "from tensorflow.keras.callbacks import EarlyStopping, ReduceLROnPlateau\n",
    "from sklearn.model_selection import train_test_split\n",
    "from sklearn.preprocessing import OneHotEncoder\n",
    "from sklearn.datasets import fetch_openml\n",
    "import numpy as np"
   ]
  },
  {
   "cell_type": "code",
   "execution_count": 6,
   "id": "82a937af",
   "metadata": {},
   "outputs": [],
   "source": [
    "mnist = fetch_openml('mnist_784', version = 1, )\n",
    "X = mnist['data'].astype(np.float32) / 255.0\n",
    "y = mnist['target'].to_numpy().astype(int).reshape(-1, 1)\n",
    "\n",
    "encoder = OneHotEncoder(sparse_output = False)\n",
    "y_encoded = encoder.fit_transform(y)"
   ]
  },
  {
   "cell_type": "code",
   "execution_count": 7,
   "id": "9cbb9808",
   "metadata": {},
   "outputs": [],
   "source": [
    "X_train, X_val, y_train, y_val = train_test_split(X, y_encoded, test_size=0.2, random_state=42)"
   ]
  },
  {
   "cell_type": "code",
   "execution_count": 10,
   "id": "933350a7",
   "metadata": {},
   "outputs": [
    {
     "name": "stderr",
     "output_type": "stream",
     "text": [
      "C:\\Users\\Kaustubh Srivastava\\AppData\\Roaming\\Python\\Python312\\site-packages\\keras\\src\\layers\\core\\dense.py:93: UserWarning: Do not pass an `input_shape`/`input_dim` argument to a layer. When using Sequential models, prefer using an `Input(shape)` object as the first layer in the model instead.\n",
      "  super().__init__(activity_regularizer=activity_regularizer, **kwargs)\n"
     ]
    }
   ],
   "source": [
    "model = Sequential([\n",
    "    Dense(256, activation = 'relu', input_shape = (784,)),\n",
    "    Dropout(0.3),\n",
    "    Dense(128, activation = 'relu'),\n",
    "    Dropout(0.3),\n",
    "    Dense(64, activation = 'relu'),\n",
    "    Dense(10, activation = 'softmax')\n",
    "])"
   ]
  },
  {
   "cell_type": "code",
   "execution_count": 13,
   "id": "01e4eac4",
   "metadata": {},
   "outputs": [],
   "source": [
    "model.compile(\n",
    "    optimizer = Adam(learning_rate = 0.001),\n",
    "    loss = 'categorical_crossentropy',\n",
    "    metrics = ['accuracy']\n",
    ")\n",
    "\n",
    "early_stop = EarlyStopping(monitor = 'val_accuracy', patience = 5, restore_best_weights = True)\n",
    "lr_schedule = ReduceLROnPlateau(monitor = 'val_loss', factor = 0.5, patience = 3)"
   ]
  },
  {
   "cell_type": "code",
   "execution_count": 14,
   "id": "7b41f973",
   "metadata": {},
   "outputs": [
    {
     "name": "stdout",
     "output_type": "stream",
     "text": [
      "Epoch 1/50\n",
      "875/875 - 7s - 8ms/step - accuracy: 0.8928 - loss: 0.3527 - val_accuracy: 0.9564 - val_loss: 0.1429 - learning_rate: 0.0010\n",
      "Epoch 2/50\n",
      "875/875 - 4s - 5ms/step - accuracy: 0.9526 - loss: 0.1596 - val_accuracy: 0.9656 - val_loss: 0.1124 - learning_rate: 0.0010\n",
      "Epoch 3/50\n",
      "875/875 - 4s - 5ms/step - accuracy: 0.9626 - loss: 0.1228 - val_accuracy: 0.9702 - val_loss: 0.1021 - learning_rate: 0.0010\n",
      "Epoch 4/50\n",
      "875/875 - 4s - 5ms/step - accuracy: 0.9674 - loss: 0.1084 - val_accuracy: 0.9724 - val_loss: 0.0921 - learning_rate: 0.0010\n",
      "Epoch 5/50\n",
      "875/875 - 4s - 5ms/step - accuracy: 0.9717 - loss: 0.0906 - val_accuracy: 0.9762 - val_loss: 0.0869 - learning_rate: 0.0010\n",
      "Epoch 6/50\n",
      "875/875 - 4s - 5ms/step - accuracy: 0.9744 - loss: 0.0820 - val_accuracy: 0.9748 - val_loss: 0.0845 - learning_rate: 0.0010\n",
      "Epoch 7/50\n",
      "875/875 - 4s - 5ms/step - accuracy: 0.9768 - loss: 0.0740 - val_accuracy: 0.9754 - val_loss: 0.0824 - learning_rate: 0.0010\n",
      "Epoch 8/50\n",
      "875/875 - 4s - 5ms/step - accuracy: 0.9788 - loss: 0.0675 - val_accuracy: 0.9776 - val_loss: 0.0817 - learning_rate: 0.0010\n",
      "Epoch 9/50\n",
      "875/875 - 4s - 5ms/step - accuracy: 0.9797 - loss: 0.0647 - val_accuracy: 0.9775 - val_loss: 0.0823 - learning_rate: 0.0010\n",
      "Epoch 10/50\n",
      "875/875 - 4s - 5ms/step - accuracy: 0.9815 - loss: 0.0586 - val_accuracy: 0.9780 - val_loss: 0.0832 - learning_rate: 0.0010\n",
      "Epoch 11/50\n",
      "875/875 - 4s - 5ms/step - accuracy: 0.9822 - loss: 0.0563 - val_accuracy: 0.9788 - val_loss: 0.0803 - learning_rate: 0.0010\n",
      "Epoch 12/50\n",
      "875/875 - 4s - 5ms/step - accuracy: 0.9826 - loss: 0.0538 - val_accuracy: 0.9793 - val_loss: 0.0766 - learning_rate: 0.0010\n",
      "Epoch 13/50\n",
      "875/875 - 4s - 5ms/step - accuracy: 0.9833 - loss: 0.0510 - val_accuracy: 0.9794 - val_loss: 0.0792 - learning_rate: 0.0010\n",
      "Epoch 14/50\n",
      "875/875 - 4s - 5ms/step - accuracy: 0.9843 - loss: 0.0495 - val_accuracy: 0.9764 - val_loss: 0.0914 - learning_rate: 0.0010\n",
      "Epoch 15/50\n",
      "875/875 - 5s - 6ms/step - accuracy: 0.9849 - loss: 0.0463 - val_accuracy: 0.9758 - val_loss: 0.0960 - learning_rate: 0.0010\n",
      "Epoch 16/50\n",
      "875/875 - 5s - 6ms/step - accuracy: 0.9899 - loss: 0.0319 - val_accuracy: 0.9811 - val_loss: 0.0777 - learning_rate: 5.0000e-04\n",
      "Epoch 17/50\n",
      "875/875 - 5s - 6ms/step - accuracy: 0.9914 - loss: 0.0267 - val_accuracy: 0.9808 - val_loss: 0.0786 - learning_rate: 5.0000e-04\n",
      "Epoch 18/50\n",
      "875/875 - 4s - 5ms/step - accuracy: 0.9911 - loss: 0.0274 - val_accuracy: 0.9806 - val_loss: 0.0796 - learning_rate: 5.0000e-04\n",
      "Epoch 19/50\n",
      "875/875 - 4s - 5ms/step - accuracy: 0.9933 - loss: 0.0214 - val_accuracy: 0.9819 - val_loss: 0.0782 - learning_rate: 2.5000e-04\n",
      "Epoch 20/50\n",
      "875/875 - 6s - 6ms/step - accuracy: 0.9943 - loss: 0.0179 - val_accuracy: 0.9834 - val_loss: 0.0780 - learning_rate: 2.5000e-04\n",
      "Epoch 21/50\n",
      "875/875 - 5s - 5ms/step - accuracy: 0.9938 - loss: 0.0194 - val_accuracy: 0.9818 - val_loss: 0.0817 - learning_rate: 2.5000e-04\n",
      "Epoch 22/50\n",
      "875/875 - 4s - 5ms/step - accuracy: 0.9949 - loss: 0.0156 - val_accuracy: 0.9826 - val_loss: 0.0795 - learning_rate: 1.2500e-04\n",
      "Epoch 23/50\n",
      "875/875 - 5s - 6ms/step - accuracy: 0.9955 - loss: 0.0136 - val_accuracy: 0.9824 - val_loss: 0.0801 - learning_rate: 1.2500e-04\n",
      "Epoch 24/50\n",
      "875/875 - 4s - 5ms/step - accuracy: 0.9958 - loss: 0.0134 - val_accuracy: 0.9824 - val_loss: 0.0808 - learning_rate: 1.2500e-04\n",
      "Epoch 25/50\n",
      "875/875 - 4s - 5ms/step - accuracy: 0.9961 - loss: 0.0123 - val_accuracy: 0.9820 - val_loss: 0.0808 - learning_rate: 6.2500e-05\n"
     ]
    }
   ],
   "source": [
    "history = model.fit(\n",
    "    X_train, y_train,\n",
    "    validation_data=(X_val, y_val),\n",
    "    epochs = 50,\n",
    "    batch_size = 64,\n",
    "    callbacks = [early_stop, lr_schedule],\n",
    "    verbose = 2\n",
    ")"
   ]
  },
  {
   "cell_type": "code",
   "execution_count": 17,
   "id": "aa45a0f8",
   "metadata": {},
   "outputs": [
    {
     "name": "stdout",
     "output_type": "stream",
     "text": [
      "\n",
      "Final Validation Accuracy: 98.34%\n"
     ]
    }
   ],
   "source": [
    "val_loss, val_acc = model.evaluate(X_val, y_val, verbose=0)\n",
    "print(f\"\\nFinal Validation Accuracy: {val_acc * 100:.2f}%\")"
   ]
  },
  {
   "cell_type": "code",
   "execution_count": null,
   "id": "46d8a460",
   "metadata": {},
   "outputs": [],
   "source": []
  }
 ],
 "metadata": {
  "kernelspec": {
   "display_name": "base",
   "language": "python",
   "name": "python3"
  },
  "language_info": {
   "codemirror_mode": {
    "name": "ipython",
    "version": 3
   },
   "file_extension": ".py",
   "mimetype": "text/x-python",
   "name": "python",
   "nbconvert_exporter": "python",
   "pygments_lexer": "ipython3",
   "version": "3.12.7"
  }
 },
 "nbformat": 4,
 "nbformat_minor": 5
}
